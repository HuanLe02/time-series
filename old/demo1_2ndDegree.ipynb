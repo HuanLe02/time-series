{
 "cells": [
  {
   "cell_type": "code",
   "execution_count": 1,
   "id": "0933cae4-36ea-42aa-b76f-6fead9dd7fb6",
   "metadata": {},
   "outputs": [],
   "source": [
    "import numpy as np\n",
    "from matplotlib import pyplot as plt"
   ]
  },
  {
   "cell_type": "markdown",
   "id": "c4400d56-9bc8-41b7-bee7-fa311c63cbea",
   "metadata": {},
   "source": [
    "# Recursive Forecasting"
   ]
  },
  {
   "cell_type": "code",
   "execution_count": 2,
   "id": "3521deb1-60a0-46c9-8bf9-49f9fbea6f41",
   "metadata": {},
   "outputs": [],
   "source": [
    "datalist = np.loadtxt(\"datasets/csv1.csv\", delimiter=\",\", skiprows=2, usecols=1, encoding='utf-8-sig')\n",
    "dsize = datalist.size"
   ]
  },
  {
   "cell_type": "code",
   "execution_count": 54,
   "id": "405ad526-c8c9-4160-b542-eb48c0b31be9",
   "metadata": {},
   "outputs": [],
   "source": [
    "n = 300  # look back n preceding points\n",
    "drop_pts = 0 # drop 50 points"
   ]
  },
  {
   "cell_type": "code",
   "execution_count": 55,
   "id": "f3a46626-0985-4c99-8074-ebb29c0a5cd6",
   "metadata": {},
   "outputs": [],
   "source": [
    "# values to match result to\n",
    "y_fit = datalist[n:]\n",
    "# y_fit = y_fit.reshape(y_fit.size,1)"
   ]
  },
  {
   "cell_type": "code",
   "execution_count": 56,
   "id": "964f9c83-7353-439b-8233-98e4be47784f",
   "metadata": {},
   "outputs": [],
   "source": [
    "# how to construct the A matrix\n",
    "A = np.empty([y_fit.size, n*n+n])\n",
    "\n",
    "# construct A row-by-row\n",
    "for i in range(y_fit.size):\n",
    "    vec = datalist[i:i+n].reshape(n,1)\n",
    "    vec2 = vec @ vec.T\n",
    "    A[i] = np.concatenate((vec.flatten(), vec2.flatten()))"
   ]
  },
  {
   "cell_type": "code",
   "execution_count": 57,
   "id": "ed736a4b-fc55-4a95-81cd-d6d73dcf4dc7",
   "metadata": {},
   "outputs": [],
   "source": [
    "rng = np.random.default_rng()\n",
    "drop_idxs = rng.integers(low=0, high=y_fit.size, size=drop_pts)\n",
    "y_fit = np.delete(y_fit, drop_idxs)\n",
    "A = np.delete(A, drop_idxs, axis=0)"
   ]
  },
  {
   "cell_type": "code",
   "execution_count": 58,
   "id": "74f48dd6-3e93-407f-b4b4-c6d237d87ecf",
   "metadata": {},
   "outputs": [],
   "source": [
    "# fit the least square solution\n",
    "out, res, rank, _ = np.linalg.lstsq(A, y_fit, rcond=None)"
   ]
  },
  {
   "cell_type": "code",
   "execution_count": 59,
   "id": "b964d53f-01f3-45b7-8331-63e4a9ded10e",
   "metadata": {},
   "outputs": [],
   "source": [
    "# decompose out vector into gradient and hessian\n",
    "gradient = out[0:n].reshape(n,1)\n",
    "half_hessian = out[n:].reshape(n,n)"
   ]
  },
  {
   "cell_type": "code",
   "execution_count": 60,
   "id": "b3026f49-d4db-46a2-806b-f24afe41fb36",
   "metadata": {},
   "outputs": [],
   "source": [
    "# Prediction function\n",
    "def predict(y_in):\n",
    "    \"\"\"\n",
    "        y_in: a vector of n preceding points to predict. Must be a NumPy array or Python list.\n",
    "    \"\"\"\n",
    "\n",
    "    # check type/size errors\n",
    "    assert(type(y_in) == np.ndarray), \"Input must be of type numpy.ndarray\"\n",
    "    assert(y_in.size == n), \"Input vector must be of size %d\" %(n)\n",
    "    \n",
    "    # calculate the approximate function\n",
    "    inp = y_in.reshape(1, n)\n",
    "    output = (inp @ gradient) + (inp @ half_hessian @ inp.T)\n",
    "    return output.item()"
   ]
  },
  {
   "cell_type": "markdown",
   "id": "e7b6fac4-2d25-4e53-be99-f5935f79d137",
   "metadata": {},
   "source": [
    "# How well it fits existing data?"
   ]
  },
  {
   "cell_type": "code",
   "execution_count": 61,
   "id": "4206466a-5453-4f8f-8c64-541ff7b9859e",
   "metadata": {},
   "outputs": [],
   "source": [
    "predicted = datalist[:n]\n",
    "for i in range(0, dsize-n):\n",
    "    temp = predict(predicted[-n:])\n",
    "    predicted = np.concatenate((predicted, np.array([temp])))"
   ]
  },
  {
   "cell_type": "code",
   "execution_count": 62,
   "id": "13a7fac8-0364-46ff-be4a-7b54ddc1a557",
   "metadata": {},
   "outputs": [
    {
     "data": {
      "text/plain": [
       "(0.0, 40.0)"
      ]
     },
     "execution_count": 62,
     "metadata": {},
     "output_type": "execute_result"
    },
    {
     "data": {
      "image/png": "[encoded data removed]",
      "text/plain": [
       "<Figure size 432x288 with 1 Axes>"
      ]
     },
     "metadata": {
      "needs_background": "light"
     },
     "output_type": "display_data"
    }
   ],
   "source": [
    "x_axis = np.arange(dsize)\n",
    "plt.plot(x_axis, datalist, color='r', label='Real')\n",
    "plt.plot(x_axis, predicted, color='b', label='Pred')\n",
    "plt.ylim(0,40)"
   ]
  },
  {
   "cell_type": "markdown",
   "id": "4672738b-b229-43e6-8395-518921ea925b",
   "metadata": {},
   "source": [
    "# Future Predictions"
   ]
  },
  {
   "cell_type": "code",
   "execution_count": 65,
   "id": "20c4a36a-1969-41bb-ab79-a804d00f04b8",
   "metadata": {},
   "outputs": [],
   "source": [
    "future = datalist[:]\n",
    "points_ahead = 100\n",
    "for i in range(0, points_ahead):\n",
    "    temp = predict(future[-n:])\n",
    "    future = np.concatenate((future, np.array([temp])))"
   ]
  },
  {
   "cell_type": "code",
   "execution_count": 66,
   "id": "0ab44e3d-1767-4a08-88e6-a3a2b84033fa",
   "metadata": {},
   "outputs": [
    {
     "data": {
      "text/plain": [
       "(-50.0, 50.0)"
      ]
     },
     "execution_count": 66,
     "metadata": {},
     "output_type": "execute_result"
    },
    {
     "data": {
      "image/png": "[encoded data removed]",
      "text/plain": [
       "<Figure size 432x288 with 1 Axes>"
      ]
     },
     "metadata": {
      "needs_background": "light"
     },
     "output_type": "display_data"
    }
   ],
   "source": [
    "x_axis = np.arange(dsize+points_ahead)\n",
    "plt.plot(x_axis, future, color='b', label='Pred')\n",
    "plt.plot(x_axis[:dsize], datalist, color='r', label='Real')\n",
    "plt.ylim(-50,50)"
   ]
  }
 ],
 "metadata": {
  "kernelspec": {
   "display_name": "Python 3 (ipykernel)",
   "language": "python",
   "name": "python3"
  },
  "language_info": {
   "codemirror_mode": {
    "name": "ipython",
    "version": 3
   },
   "file_extension": ".py",
   "mimetype": "text/x-python",
   "name": "python",
   "nbconvert_exporter": "python",
   "pygments_lexer": "ipython3",
   "version": "3.9.12"
  }
 },
 "nbformat": 4,
 "nbformat_minor": 5
}
